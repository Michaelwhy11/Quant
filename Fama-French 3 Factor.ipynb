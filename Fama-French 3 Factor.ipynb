{
 "cells": [
  {
   "cell_type": "code",
   "execution_count": 1,
   "id": "e66a8e11",
   "metadata": {},
   "outputs": [],
   "source": [
    "import pandas as pd\n",
    "import yfinance as yf\n",
    "import statsmodels.api as sm\n",
    "import getFamaFrenchFactors as gff"
   ]
  },
  {
   "cell_type": "code",
   "execution_count": 2,
   "id": "6773bcf3",
   "metadata": {},
   "outputs": [
    {
     "name": "stdout",
     "output_type": "stream",
     "text": [
      "[*********************100%***********************]  1 of 1 completed\n"
     ]
    }
   ],
   "source": [
    "ticker = 'msft'\n",
    "start = '2016-8-31'\n",
    "end = '2021-8-31'\n",
    "stock_data = yf.download(ticker, start, end, adjusted=True)"
   ]
  },
  {
   "cell_type": "code",
   "execution_count": 3,
   "id": "2a853f98",
   "metadata": {},
   "outputs": [],
   "source": [
    "ff3_monthly = gff.famaFrench3Factor(frequency='m')\n",
    "ff3_monthly.rename(columns={\"date_ff_factors\": 'Date'}, inplace=True)\n",
    "ff3_monthly.set_index('Date', inplace=True)"
   ]
  },
  {
   "cell_type": "code",
   "execution_count": 4,
   "id": "cbf1a182",
   "metadata": {},
   "outputs": [],
   "source": [
    "stock_returns = stock_data['Adj Close'].resample('M').last().pct_change().dropna()\n",
    "stock_returns.name = \"Month_Rtn\"\n",
    "ff_data = ff3_monthly.merge(stock_returns,on='Date')"
   ]
  },
  {
   "cell_type": "code",
   "execution_count": 5,
   "id": "c4ada196",
   "metadata": {},
   "outputs": [],
   "source": [
    "X = ff_data[['Mkt-RF', 'SMB', 'HML']]\n",
    "y = ff_data['Month_Rtn'] - ff_data['RF']\n",
    "X = sm.add_constant(X)"
   ]
  },
  {
   "cell_type": "code",
   "execution_count": 6,
   "id": "f250f2f8",
   "metadata": {},
   "outputs": [
    {
     "name": "stdout",
     "output_type": "stream",
     "text": [
      "                            OLS Regression Results                            \n",
      "==============================================================================\n",
      "Dep. Variable:                      y   R-squared:                       0.608\n",
      "Model:                            OLS   Adj. R-squared:                  0.587\n",
      "Method:                 Least Squares   F-statistic:                     28.98\n",
      "Date:                Fri, 07 Jul 2023   Prob (F-statistic):           1.92e-11\n",
      "Time:                        23:15:54   Log-Likelihood:                 126.50\n",
      "No. Observations:                  60   AIC:                            -245.0\n",
      "Df Residuals:                      56   BIC:                            -236.6\n",
      "Df Model:                           3                                         \n",
      "Covariance Type:            nonrobust                                         \n",
      "==============================================================================\n",
      "                 coef    std err          t      P>|t|      [0.025      0.975]\n",
      "------------------------------------------------------------------------------\n",
      "const          0.0155      0.004      3.671      0.001       0.007       0.024\n",
      "Mkt-RF         0.8628      0.094      9.194      0.000       0.675       1.051\n",
      "SMB           -0.3160      0.152     -2.084      0.042      -0.620      -0.012\n",
      "HML           -0.3282      0.109     -3.022      0.004      -0.546      -0.111\n",
      "==============================================================================\n",
      "Omnibus:                        2.381   Durbin-Watson:                   2.596\n",
      "Prob(Omnibus):                  0.304   Jarque-Bera (JB):                1.661\n",
      "Skew:                           0.160   Prob(JB):                        0.436\n",
      "Kurtosis:                       3.750   Cond. No.                         39.9\n",
      "==============================================================================\n",
      "\n",
      "Notes:\n",
      "[1] Standard Errors assume that the covariance matrix of the errors is correctly specified.\n"
     ]
    }
   ],
   "source": [
    "ff_model = sm.OLS(y, X).fit()http://localhost:8888/notebooks/Fama-French%203%20Factor.ipynb#\n",
    "print(ff_model.summary())\n",
    "intercept, b1, b2, b3 = ff_model.params"
   ]
  },
  {
   "cell_type": "code",
   "execution_count": 7,
   "id": "f6485964",
   "metadata": {},
   "outputs": [
    {
     "name": "stdout",
     "output_type": "stream",
     "text": [
      "Expected yearly return: 0.059528149928772284\n"
     ]
    }
   ],
   "source": [
    "rf = ff_data['RF'].mean()\n",
    "market_premium = ff3_monthly['Mkt-RF'].mean()\n",
    "size_premium = ff3_monthly['SMB'].mean()\n",
    "value_premium = ff3_monthly['HML'].mean()\n",
    "expected_monthly_return = rf + b1 * market_premium + b2 * size_premium + b3 * value_premium \n",
    "expected_yearly_return = expected_monthly_return * 12\n",
    "print(\"Expected yearly return: \" + str(expected_yearly_return))"
   ]
  }
 ],
 "metadata": {
  "kernelspec": {
   "display_name": "Python 3 (ipykernel)",
   "language": "python",
   "name": "python3"
  },
  "language_info": {
   "codemirror_mode": {
    "name": "ipython",
    "version": 3
   },
   "file_extension": ".py",
   "mimetype": "text/x-python",
   "name": "python",
   "nbconvert_exporter": "python",
   "pygments_lexer": "ipython3",
   "version": "3.9.12"
  }
 },
 "nbformat": 4,
 "nbformat_minor": 5
}
